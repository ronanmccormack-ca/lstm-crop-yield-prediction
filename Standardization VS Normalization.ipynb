{
 "cells": [
  {
   "cell_type": "code",
   "execution_count": 4,
   "id": "c378c050",
   "metadata": {},
   "outputs": [
    {
     "name": "stdout",
     "output_type": "stream",
     "text": [
      "MSE using standardization:  1.820215154587943e-12\n",
      "MSE using normalization:  1.198082050027141e-12\n",
      "R-squared score using standardization:  1.0\n",
      "R-squared score using normalization:  1.0\n"
     ]
    }
   ],
   "source": [
    "import pandas as pd\n",
    "from sklearn.preprocessing import StandardScaler, MinMaxScaler\n",
    "from sklearn.linear_model import LinearRegression\n",
    "from sklearn.metrics import mean_squared_error\n",
    "from sklearn.metrics import r2_score\n",
    "import matplotlib.pyplot as plt\n",
    "\n",
    "# Load the dataset into a pandas dataframe\n",
    "df = pd.read_csv('new_data_full.csv')\n",
    "df = df.loc[:, ~df.columns.str.contains('9')]\n",
    "df = df.drop(columns=['Division','Year']).dropna()\n",
    "df['Soil Type'] = df['Soil Type'].astype('category')\n",
    "df['Soil Type'] = df['Soil Type'].cat.codes\n",
    "\n",
    "# Split the dataset into X and y variables\n",
    "X = df.iloc[:,:-1]\n",
    "y = df['Yield']\n",
    "\n",
    "# Split the dataset into two groups\n",
    "group_standardization = X.copy()\n",
    "group_normalization = X.copy()\n",
    "\n",
    "# Apply standardization to the first group\n",
    "scaler = StandardScaler()\n",
    "group_standardization = scaler.fit_transform(group_standardization)\n",
    "\n",
    "# Apply normalization to the second group\n",
    "scaler = MinMaxScaler()\n",
    "group_normalization = scaler.fit_transform(group_normalization)\n",
    "\n",
    "# Run regression analysis on both groups\n",
    "regression_standardization = LinearRegression().fit(group_standardization, y)\n",
    "regression_normalization = LinearRegression().fit(group_normalization, y)\n",
    "\n",
    "# Compare the accuracy of the predictions\n",
    "standardization_predictions = regression_standardization.predict(group_standardization)\n",
    "normalization_predictions = regression_normalization.predict(group_normalization)\n",
    "\n",
    "# Compare the accuracy of the predictions using some metric, such as mean squared error\n",
    "mse_standardization = mean_squared_error(y, standardization_predictions,squared=False)\n",
    "mse_normalization = mean_squared_error(y, normalization_predictions,squared=False)\n",
    "\n",
    "print(\"MSE using standardization: \", mse_standardization)\n",
    "print(\"MSE using normalization: \", mse_normalization)\n",
    "\n",
    "# Compare the accuracy of the predictions using R-squared scores\n",
    "r2_standardization = r2_score(y, standardization_predictions)\n",
    "r2_normalization = r2_score(y, normalization_predictions)\n",
    "\n",
    "print(\"R-squared score using standardization: \", r2_standardization)\n",
    "print(\"R-squared score using normalization: \", r2_normalization)"
   ]
  },
  {
   "cell_type": "code",
   "execution_count": null,
   "id": "7ea6f2bb",
   "metadata": {},
   "outputs": [],
   "source": []
  }
 ],
 "metadata": {
  "kernelspec": {
   "display_name": "Python 3 (ipykernel)",
   "language": "python",
   "name": "python3"
  },
  "language_info": {
   "codemirror_mode": {
    "name": "ipython",
    "version": 3
   },
   "file_extension": ".py",
   "mimetype": "text/x-python",
   "name": "python",
   "nbconvert_exporter": "python",
   "pygments_lexer": "ipython3",
   "version": "3.8.12"
  }
 },
 "nbformat": 4,
 "nbformat_minor": 5
}
